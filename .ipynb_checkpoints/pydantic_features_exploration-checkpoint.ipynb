{
 "cells": [
  {
   "cell_type": "markdown",
   "metadata": {},
   "source": [
    "# BASIC IMPORTS"
   ]
  },
  {
   "cell_type": "code",
   "execution_count": 13,
   "metadata": {},
   "outputs": [],
   "source": [
    "from __future__ import annotations\n",
    "\n",
    "import json\n",
    "import typing\n",
    "from datetime import datetime\n",
    "\n",
    "import faker\n",
    "import pydantic as pt\n",
    "import pytz\n",
    "from devtools import debug\n",
    "from rich.console import Console\n",
    "from rich.pretty import pprint\n",
    "\n",
    "console = Console()"
   ]
  },
  {
   "cell_type": "markdown",
   "metadata": {},
   "source": [
    "### Settings Parsing from ENV File"
   ]
  },
  {
   "cell_type": "code",
   "execution_count": 52,
   "metadata": {},
   "outputs": [],
   "source": [
    "class _BaseConfig(pt.BaseSettings):\n",
    "    fb: pt.AnyHttpUrl = pt.Field(default=...)\n",
    "    passwd: pt.StrictStr = pt.Field(default=..., min_length=6, max_length=18)\n",
    "\n",
    "    class Config(pt.BaseSettings.Config):\n",
    "        env_file = \".test.env\"\n",
    "        allow_mutation = False\n",
    "\n",
    "\n",
    "configs = _BaseConfig()"
   ]
  },
  {
   "cell_type": "markdown",
   "metadata": {},
   "source": [
    "### Import The Json "
   ]
  },
  {
   "cell_type": "code",
   "execution_count": 16,
   "metadata": {},
   "outputs": [],
   "source": [
    "contents: typing.Mapping[str, typing.Any] = {}\n",
    "\n",
    "with open(\"data.json\", \"r\") as f:\n",
    "    contents = json.load(f.buffer)"
   ]
  },
  {
   "cell_type": "markdown",
   "metadata": {},
   "source": [
    "### A Typical Model Schema of pydantic"
   ]
  },
  {
   "cell_type": "code",
   "execution_count": 17,
   "metadata": {},
   "outputs": [],
   "source": [
    "title_str = pt.constr(\n",
    "    strict=True,\n",
    "    min_length=5,\n",
    "    max_length=18,\n",
    "    strip_whitespace=True,\n",
    "    regex=r\"^([a-zA-Z]+( [a-zA-Z]+)+)$\",\n",
    ")\n",
    "category = pt.constr(strict=True, to_lower=True)\n",
    "\n",
    "\n",
    "class Product(pt.BaseModel):\n",
    "    id: int\n",
    "    title: title_str\n",
    "    description: str = pt.Field(default=None, max_length=255)\n",
    "    price: float = pt.Field(default=..., decimalPlaces=2)\n",
    "    discount_percentage: float = pt.Field(default=..., alias=\"discountPercentage\")\n",
    "    rating: int = pt.Field(ge=1, le=10)\n",
    "    stock: int\n",
    "    brand: str\n",
    "    category: category\n",
    "    thumbnail: pt.AnyHttpUrl\n",
    "    images: typing.Tuple[pt.AnyHttpUrl, ...]\n",
    "\n",
    "    @pt.validator(\"images\", pre=True)\n",
    "    @classmethod\n",
    "    def _handle_images(cls, value: typing.Tuple[str]) -> typing.Tuple[pt.AnyHttpUrl]:\n",
    "        return tuple(pt.AnyHttpUrl(url=_link, scheme=\"https\") for _link in value)\n",
    "\n",
    "    class Config:\n",
    "        orm_mode = True\n",
    "        allow_population_by_field_name = True"
   ]
  },
  {
   "cell_type": "code",
   "execution_count": 18,
   "metadata": {},
   "outputs": [
    {
     "data": {
      "text/html": [
       "<pre style=\"white-space:pre;overflow-x:auto;line-height:normal;font-family:Menlo,'DejaVu Sans Mono',consolas,'Courier New',monospace\"><span style=\"font-weight: bold\">{</span>\n",
       "  <span style=\"color: #000080; text-decoration-color: #000080; font-weight: bold\">\"id\"</span>: <span style=\"color: #008080; text-decoration-color: #008080; font-weight: bold\">12</span>,\n",
       "  <span style=\"color: #000080; text-decoration-color: #000080; font-weight: bold\">\"title\"</span>: <span style=\"color: #008000; text-decoration-color: #008000\">\"Brown Person\"</span>,\n",
       "  <span style=\"color: #000080; text-decoration-color: #000080; font-weight: bold\">\"description\"</span>: <span style=\"color: #008000; text-decoration-color: #008000\">\"Royal_Mirage Sport Brown Perfu...\"</span>,\n",
       "  <span style=\"color: #000080; text-decoration-color: #000080; font-weight: bold\">\"price\"</span>: <span style=\"color: #008080; text-decoration-color: #008080; font-weight: bold\">40.0</span>,\n",
       "  <span style=\"color: #000080; text-decoration-color: #000080; font-weight: bold\">\"discountPercentage\"</span>: <span style=\"color: #008080; text-decoration-color: #008080; font-weight: bold\">15.66</span>,\n",
       "  <span style=\"color: #000080; text-decoration-color: #000080; font-weight: bold\">\"rating\"</span>: <span style=\"color: #008080; text-decoration-color: #008080; font-weight: bold\">4</span>,\n",
       "  <span style=\"color: #000080; text-decoration-color: #000080; font-weight: bold\">\"stock\"</span>: <span style=\"color: #008080; text-decoration-color: #008080; font-weight: bold\">52</span>,\n",
       "  <span style=\"color: #000080; text-decoration-color: #000080; font-weight: bold\">\"brand\"</span>: <span style=\"color: #008000; text-decoration-color: #008000\">\"Royal_Mirage\"</span>,\n",
       "  <span style=\"color: #000080; text-decoration-color: #000080; font-weight: bold\">\"category\"</span>: <span style=\"color: #008000; text-decoration-color: #008000\">\"fragrances\"</span>,\n",
       "  <span style=\"color: #000080; text-decoration-color: #000080; font-weight: bold\">\"thumbnail\"</span>: <span style=\"color: #008000; text-decoration-color: #008000\">\"https://i.dummyjson.com/data/products/12/thumbnail.jpg\"</span>,\n",
       "  <span style=\"color: #000080; text-decoration-color: #000080; font-weight: bold\">\"images\"</span>: <span style=\"font-weight: bold\">[</span>\n",
       "    <span style=\"color: #008000; text-decoration-color: #008000\">\"https://i.dummyjson.com/data/products/12/1.jpg\"</span>,\n",
       "    <span style=\"color: #008000; text-decoration-color: #008000\">\"https://i.dummyjson.com/data/products/12/2.jpg\"</span>,\n",
       "    <span style=\"color: #008000; text-decoration-color: #008000\">\"https://i.dummyjson.com/data/products/12/3.png\"</span>,\n",
       "    <span style=\"color: #008000; text-decoration-color: #008000\">\"https://i.dummyjson.com/data/products/12/4.jpg\"</span>,\n",
       "    <span style=\"color: #008000; text-decoration-color: #008000\">\"https://i.dummyjson.com/data/products/12/thumbnail.jpg\"</span>\n",
       "  <span style=\"font-weight: bold\">]</span>\n",
       "<span style=\"font-weight: bold\">}</span>\n",
       "</pre>\n"
      ],
      "text/plain": [
       "\u001b[1m{\u001b[0m\n",
       "  \u001b[1;34m\"id\"\u001b[0m: \u001b[1;36m12\u001b[0m,\n",
       "  \u001b[1;34m\"title\"\u001b[0m: \u001b[32m\"Brown Person\"\u001b[0m,\n",
       "  \u001b[1;34m\"description\"\u001b[0m: \u001b[32m\"Royal_Mirage Sport Brown Perfu...\"\u001b[0m,\n",
       "  \u001b[1;34m\"price\"\u001b[0m: \u001b[1;36m40.0\u001b[0m,\n",
       "  \u001b[1;34m\"discountPercentage\"\u001b[0m: \u001b[1;36m15.66\u001b[0m,\n",
       "  \u001b[1;34m\"rating\"\u001b[0m: \u001b[1;36m4\u001b[0m,\n",
       "  \u001b[1;34m\"stock\"\u001b[0m: \u001b[1;36m52\u001b[0m,\n",
       "  \u001b[1;34m\"brand\"\u001b[0m: \u001b[32m\"Royal_Mirage\"\u001b[0m,\n",
       "  \u001b[1;34m\"category\"\u001b[0m: \u001b[32m\"fragrances\"\u001b[0m,\n",
       "  \u001b[1;34m\"thumbnail\"\u001b[0m: \u001b[32m\"https://i.dummyjson.com/data/products/12/thumbnail.jpg\"\u001b[0m,\n",
       "  \u001b[1;34m\"images\"\u001b[0m: \u001b[1m[\u001b[0m\n",
       "    \u001b[32m\"https://i.dummyjson.com/data/products/12/1.jpg\"\u001b[0m,\n",
       "    \u001b[32m\"https://i.dummyjson.com/data/products/12/2.jpg\"\u001b[0m,\n",
       "    \u001b[32m\"https://i.dummyjson.com/data/products/12/3.png\"\u001b[0m,\n",
       "    \u001b[32m\"https://i.dummyjson.com/data/products/12/4.jpg\"\u001b[0m,\n",
       "    \u001b[32m\"https://i.dummyjson.com/data/products/12/thumbnail.jpg\"\u001b[0m\n",
       "  \u001b[1m]\u001b[0m\n",
       "\u001b[1m}\u001b[0m\n"
      ]
     },
     "metadata": {},
     "output_type": "display_data"
    }
   ],
   "source": [
    "try:\n",
    "    product = Product(**contents)\n",
    "except pt.ValidationError as e:\n",
    "    console.print_exception(show_locals=True)\n",
    "else:\n",
    "    console.print_json(product.json(by_alias=True))"
   ]
  },
  {
   "cell_type": "markdown",
   "metadata": {},
   "source": [
    "### Enum With Pydantic Schema"
   ]
  },
  {
   "cell_type": "code",
   "execution_count": 72,
   "metadata": {},
   "outputs": [
    {
     "data": {
      "text/html": [
       "<pre style=\"white-space:pre;overflow-x:auto;line-height:normal;font-family:Menlo,'DejaVu Sans Mono',consolas,'Courier New',monospace\"><span style=\"font-weight: bold\">[</span>\n",
       "    <span style=\"color: #800080; text-decoration-color: #800080; font-weight: bold\">Order</span><span style=\"font-weight: bold\">(</span><span style=\"color: #808000; text-decoration-color: #808000\">id</span>=<span style=\"color: #008080; text-decoration-color: #008080; font-weight: bold\">1</span>, <span style=\"color: #808000; text-decoration-color: #808000\">status</span>=<span style=\"font-weight: bold\">&lt;</span><span style=\"color: #ff00ff; text-decoration-color: #ff00ff; font-weight: bold\">EnumStatus.PENDING:</span><span style=\"color: #000000; text-decoration-color: #000000\"> </span><span style=\"color: #008000; text-decoration-color: #008000\">'pending'</span><span style=\"font-weight: bold\">&gt;</span>, <span style=\"color: #808000; text-decoration-color: #808000\">is_active</span>=<span style=\"font-weight: bold\">&lt;</span><span style=\"color: #ff00ff; text-decoration-color: #ff00ff; font-weight: bold\">EnumActiveStage.ACTIVE:</span><span style=\"color: #000000; text-decoration-color: #000000\"> </span><span style=\"color: #008080; text-decoration-color: #008080; font-weight: bold\">1</span><span style=\"font-weight: bold\">&gt;)</span>,\n",
       "    <span style=\"color: #800080; text-decoration-color: #800080; font-weight: bold\">Order</span><span style=\"font-weight: bold\">(</span><span style=\"color: #808000; text-decoration-color: #808000\">id</span>=<span style=\"color: #008080; text-decoration-color: #008080; font-weight: bold\">1</span>, <span style=\"color: #808000; text-decoration-color: #808000\">status</span>=<span style=\"font-weight: bold\">&lt;</span><span style=\"color: #ff00ff; text-decoration-color: #ff00ff; font-weight: bold\">EnumStatus.SUCCESS:</span><span style=\"color: #000000; text-decoration-color: #000000\"> </span><span style=\"color: #008000; text-decoration-color: #008000\">'success'</span><span style=\"font-weight: bold\">&gt;</span>, <span style=\"color: #808000; text-decoration-color: #808000\">is_active</span>=<span style=\"font-weight: bold\">&lt;</span><span style=\"color: #ff00ff; text-decoration-color: #ff00ff; font-weight: bold\">EnumActiveStage.INACTIVE:</span><span style=\"color: #000000; text-decoration-color: #000000\"> </span><span style=\"color: #008080; text-decoration-color: #008080; font-weight: bold\">0</span><span style=\"font-weight: bold\">&gt;)</span>,\n",
       "    <span style=\"color: #800080; text-decoration-color: #800080; font-weight: bold\">Order</span><span style=\"font-weight: bold\">(</span><span style=\"color: #808000; text-decoration-color: #808000\">id</span>=<span style=\"color: #008080; text-decoration-color: #008080; font-weight: bold\">1</span>, <span style=\"color: #808000; text-decoration-color: #808000\">status</span>=<span style=\"font-weight: bold\">&lt;</span><span style=\"color: #ff00ff; text-decoration-color: #ff00ff; font-weight: bold\">EnumStatus.DRAFT:</span><span style=\"color: #000000; text-decoration-color: #000000\"> </span><span style=\"color: #008000; text-decoration-color: #008000\">'draft'</span><span style=\"font-weight: bold\">&gt;</span>, <span style=\"color: #808000; text-decoration-color: #808000\">is_active</span>=<span style=\"font-weight: bold\">&lt;</span><span style=\"color: #ff00ff; text-decoration-color: #ff00ff; font-weight: bold\">EnumActiveStage.ACTIVE:</span><span style=\"color: #000000; text-decoration-color: #000000\"> </span><span style=\"color: #008080; text-decoration-color: #008080; font-weight: bold\">1</span><span style=\"font-weight: bold\">&gt;)</span>\n",
       "<span style=\"font-weight: bold\">]</span>\n",
       "</pre>\n"
      ],
      "text/plain": [
       "\u001b[1m[\u001b[0m\n",
       "    \u001b[1;35mOrder\u001b[0m\u001b[1m(\u001b[0m\u001b[33mid\u001b[0m=\u001b[1;36m1\u001b[0m, \u001b[33mstatus\u001b[0m=\u001b[1m<\u001b[0m\u001b[1;95mEnumStatus.PENDING:\u001b[0m\u001b[39m \u001b[0m\u001b[32m'pending'\u001b[0m\u001b[1m>\u001b[0m, \u001b[33mis_active\u001b[0m=\u001b[1m<\u001b[0m\u001b[1;95mEnumActiveStage.ACTIVE:\u001b[0m\u001b[39m \u001b[0m\u001b[1;36m1\u001b[0m\u001b[1m>\u001b[0m\u001b[1m)\u001b[0m,\n",
       "    \u001b[1;35mOrder\u001b[0m\u001b[1m(\u001b[0m\u001b[33mid\u001b[0m=\u001b[1;36m1\u001b[0m, \u001b[33mstatus\u001b[0m=\u001b[1m<\u001b[0m\u001b[1;95mEnumStatus.SUCCESS:\u001b[0m\u001b[39m \u001b[0m\u001b[32m'success'\u001b[0m\u001b[1m>\u001b[0m, \u001b[33mis_active\u001b[0m=\u001b[1m<\u001b[0m\u001b[1;95mEnumActiveStage.INACTIVE:\u001b[0m\u001b[39m \u001b[0m\u001b[1;36m0\u001b[0m\u001b[1m>\u001b[0m\u001b[1m)\u001b[0m,\n",
       "    \u001b[1;35mOrder\u001b[0m\u001b[1m(\u001b[0m\u001b[33mid\u001b[0m=\u001b[1;36m1\u001b[0m, \u001b[33mstatus\u001b[0m=\u001b[1m<\u001b[0m\u001b[1;95mEnumStatus.DRAFT:\u001b[0m\u001b[39m \u001b[0m\u001b[32m'draft'\u001b[0m\u001b[1m>\u001b[0m, \u001b[33mis_active\u001b[0m=\u001b[1m<\u001b[0m\u001b[1;95mEnumActiveStage.ACTIVE:\u001b[0m\u001b[39m \u001b[0m\u001b[1;36m1\u001b[0m\u001b[1m>\u001b[0m\u001b[1m)\u001b[0m\n",
       "\u001b[1m]\u001b[0m\n"
      ]
     },
     "metadata": {},
     "output_type": "display_data"
    }
   ],
   "source": [
    "import enum\n",
    "\n",
    "from rich import print\n",
    "\n",
    "\n",
    "class EnumStatus(str, enum.Enum):\n",
    "    PENDING = \"pending\"\n",
    "    SUCCESS = \"success\"\n",
    "    DRAFT = \"draft\"\n",
    "\n",
    "\n",
    "class EnumActiveStage(int, enum.Enum):\n",
    "    ACTIVE = 1\n",
    "    INACTIVE = 0\n",
    "\n",
    "\n",
    "class Order(pt.BaseModel):\n",
    "    id: int\n",
    "    status: EnumStatus\n",
    "    is_active: EnumActiveStage\n",
    "\n",
    "\n",
    "order_1 = Order(id=1, status=\"pending\", is_active=1)\n",
    "order_2 = Order(id=1, status=\"success\", is_active=0)\n",
    "order_3 = Order(id=1, status=\"draft\", is_active=1)\n",
    "\n",
    "print([order_1, order_2, order_3])"
   ]
  },
  {
   "cell_type": "markdown",
   "metadata": {
    "tags": []
   },
   "source": [
    "#### ACCESS ENUM VALUE "
   ]
  },
  {
   "cell_type": "code",
   "execution_count": 68,
   "metadata": {},
   "outputs": [
    {
     "data": {
      "text/html": [
       "<pre style=\"white-space:pre;overflow-x:auto;line-height:normal;font-family:Menlo,'DejaVu Sans Mono',consolas,'Courier New',monospace\"><span style=\"color: #00ff00; text-decoration-color: #00ff00; font-style: italic\">True</span>\n",
       "</pre>\n"
      ],
      "text/plain": [
       "\u001b[3;92mTrue\u001b[0m\n"
      ]
     },
     "metadata": {},
     "output_type": "display_data"
    },
    {
     "data": {
      "text/html": [
       "<pre style=\"white-space:pre;overflow-x:auto;line-height:normal;font-family:Menlo,'DejaVu Sans Mono',consolas,'Courier New',monospace\"><span style=\"color: #00ff00; text-decoration-color: #00ff00; font-style: italic\">True</span>\n",
       "</pre>\n"
      ],
      "text/plain": [
       "\u001b[3;92mTrue\u001b[0m\n"
      ]
     },
     "metadata": {},
     "output_type": "display_data"
    },
    {
     "data": {
      "text/html": [
       "<pre style=\"white-space:pre;overflow-x:auto;line-height:normal;font-family:Menlo,'DejaVu Sans Mono',consolas,'Courier New',monospace\">\n",
       "</pre>\n"
      ],
      "text/plain": [
       "\n"
      ]
     },
     "metadata": {},
     "output_type": "display_data"
    },
    {
     "data": {
      "text/html": [
       "<pre style=\"white-space:pre;overflow-x:auto;line-height:normal;font-family:Menlo,'DejaVu Sans Mono',consolas,'Courier New',monospace\">Order Status Name: PENDING\n",
       "</pre>\n"
      ],
      "text/plain": [
       "Order Status Name: PENDING\n"
      ]
     },
     "metadata": {},
     "output_type": "display_data"
    },
    {
     "data": {
      "text/html": [
       "<pre style=\"white-space:pre;overflow-x:auto;line-height:normal;font-family:Menlo,'DejaVu Sans Mono',consolas,'Courier New',monospace\">Order Status Value: pending\n",
       "</pre>\n"
      ],
      "text/plain": [
       "Order Status Value: pending\n"
      ]
     },
     "metadata": {},
     "output_type": "display_data"
    },
    {
     "data": {
      "text/html": [
       "<pre style=\"white-space:pre;overflow-x:auto;line-height:normal;font-family:Menlo,'DejaVu Sans Mono',consolas,'Courier New',monospace\">\n",
       "</pre>\n"
      ],
      "text/plain": [
       "\n"
      ]
     },
     "metadata": {},
     "output_type": "display_data"
    },
    {
     "data": {
      "text/html": [
       "<pre style=\"white-space:pre;overflow-x:auto;line-height:normal;font-family:Menlo,'DejaVu Sans Mono',consolas,'Courier New',monospace\">Order Active Name: ACTIVE\n",
       "</pre>\n"
      ],
      "text/plain": [
       "Order Active Name: ACTIVE\n"
      ]
     },
     "metadata": {},
     "output_type": "display_data"
    },
    {
     "data": {
      "text/html": [
       "<pre style=\"white-space:pre;overflow-x:auto;line-height:normal;font-family:Menlo,'DejaVu Sans Mono',consolas,'Courier New',monospace\">Order Active Value: <span style=\"color: #008080; text-decoration-color: #008080; font-weight: bold\">1</span>\n",
       "</pre>\n"
      ],
      "text/plain": [
       "Order Active Value: \u001b[1;36m1\u001b[0m\n"
      ]
     },
     "metadata": {},
     "output_type": "display_data"
    },
    {
     "data": {
      "text/html": [
       "<pre style=\"white-space:pre;overflow-x:auto;line-height:normal;font-family:Menlo,'DejaVu Sans Mono',consolas,'Courier New',monospace\">\n",
       "</pre>\n"
      ],
      "text/plain": [
       "\n"
      ]
     },
     "metadata": {},
     "output_type": "display_data"
    },
    {
     "data": {
      "text/html": [
       "<pre style=\"white-space:pre;overflow-x:auto;line-height:normal;font-family:Menlo,'DejaVu Sans Mono',consolas,'Courier New',monospace\"><span style=\"font-weight: bold\">{</span><span style=\"color: #008000; text-decoration-color: #008000\">'id'</span>: <span style=\"color: #008080; text-decoration-color: #008080; font-weight: bold\">1</span>, <span style=\"color: #008000; text-decoration-color: #008000\">'status'</span>: <span style=\"font-weight: bold\">&lt;</span><span style=\"color: #ff00ff; text-decoration-color: #ff00ff; font-weight: bold\">EnumStatus.PENDING:</span><span style=\"color: #000000; text-decoration-color: #000000\"> </span><span style=\"color: #008000; text-decoration-color: #008000\">'pending'</span><span style=\"font-weight: bold\">&gt;</span>, <span style=\"color: #008000; text-decoration-color: #008000\">'is_active'</span>: <span style=\"font-weight: bold\">&lt;</span><span style=\"color: #ff00ff; text-decoration-color: #ff00ff; font-weight: bold\">EnumActiveStage.ACTIVE:</span><span style=\"color: #000000; text-decoration-color: #000000\"> </span><span style=\"color: #008080; text-decoration-color: #008080; font-weight: bold\">1</span><span style=\"font-weight: bold\">&gt;}</span>\n",
       "</pre>\n"
      ],
      "text/plain": [
       "\u001b[1m{\u001b[0m\u001b[32m'id'\u001b[0m: \u001b[1;36m1\u001b[0m, \u001b[32m'status'\u001b[0m: \u001b[1m<\u001b[0m\u001b[1;95mEnumStatus.PENDING:\u001b[0m\u001b[39m \u001b[0m\u001b[32m'pending'\u001b[0m\u001b[1m>\u001b[0m, \u001b[32m'is_active'\u001b[0m: \u001b[1m<\u001b[0m\u001b[1;95mEnumActiveStage.ACTIVE:\u001b[0m\u001b[39m \u001b[0m\u001b[1;36m1\u001b[0m\u001b[1m>\u001b[0m\u001b[1m}\u001b[0m\n"
      ]
     },
     "metadata": {},
     "output_type": "display_data"
    }
   ],
   "source": [
    "print(order_1.is_active == EnumActiveStage.ACTIVE)\n",
    "print(order_1.status == EnumStatus.PENDING)\n",
    "print()\n",
    "print(f\"Order Status Name: {order_1.status.name}\")\n",
    "print(f\"Order Status Value: {order_1.status.value}\")\n",
    "print()\n",
    "print(f\"Order Active Name: {order_1.is_active.name}\")\n",
    "print(f\"Order Active Value: {order_1.is_active.value}\")\n",
    "print()\n",
    "print(order_1.dict())"
   ]
  },
  {
   "cell_type": "code",
   "execution_count": null,
   "metadata": {},
   "outputs": [],
   "source": []
  }
 ],
 "metadata": {
  "kernelspec": {
   "display_name": "Python 3 (ipykernel)",
   "language": "python",
   "name": "python3"
  },
  "language_info": {
   "codemirror_mode": {
    "name": "ipython",
    "version": 3
   },
   "file_extension": ".py",
   "mimetype": "text/x-python",
   "name": "python",
   "nbconvert_exporter": "python",
   "pygments_lexer": "ipython3",
   "version": "3.10.5"
  },
  "vscode": {
   "interpreter": {
    "hash": "365d8b22e366e3f764b1067cc9c8b4cb17b313dd19fc4d64f66c739f51593903"
   }
  }
 },
 "nbformat": 4,
 "nbformat_minor": 4
}
